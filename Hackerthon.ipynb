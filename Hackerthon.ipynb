{
 "cells": [
  {
   "cell_type": "code",
   "execution_count": 82,
   "id": "6276be6a",
   "metadata": {},
   "outputs": [],
   "source": [
    "import numpy as np\n",
    "import random as r "
   ]
  },
  {
   "cell_type": "code",
   "execution_count": 83,
   "id": "9647d000",
   "metadata": {},
   "outputs": [
    {
     "data": {
      "text/plain": [
       "array([1, 2, 3, 4, 5, 6])"
      ]
     },
     "execution_count": 83,
     "metadata": {},
     "output_type": "execute_result"
    }
   ],
   "source": [
    "ex = np.array([1,2,3,4,5,6])\n",
    "ex\n"
   ]
  },
  {
   "cell_type": "code",
   "execution_count": 84,
   "id": "8cdcbe4b",
   "metadata": {},
   "outputs": [
    {
     "data": {
      "text/plain": [
       "(6,)"
      ]
     },
     "execution_count": 84,
     "metadata": {},
     "output_type": "execute_result"
    }
   ],
   "source": [
    "ex.shape"
   ]
  },
  {
   "cell_type": "code",
   "execution_count": 34,
   "id": "90d11fd3",
   "metadata": {},
   "outputs": [
    {
     "data": {
      "text/plain": [
       "array([[1, 2, 3],\n",
       "       [4, 5, 6],\n",
       "       [7, 8, 9]])"
      ]
     },
     "execution_count": 34,
     "metadata": {},
     "output_type": "execute_result"
    }
   ],
   "source": [
    "example = 1,2,3,4,5,6,7,8,9\n",
    "ex = np.array(example)\n",
    "ex\n",
    "ex.shape = (3,3)\n",
    "ex"
   ]
  },
  {
   "cell_type": "code",
   "execution_count": 40,
   "id": "32f28958",
   "metadata": {},
   "outputs": [
    {
     "name": "stdout",
     "output_type": "stream",
     "text": [
      "1,2,3,4,5,6,7,8,9\n",
      "1,2,3,4,5,6,7,8,9\n"
     ]
    }
   ],
   "source": [
    "lis = input(\"\")\n",
    "print(lis)"
   ]
  },
  {
   "cell_type": "code",
   "execution_count": 41,
   "id": "fffffbc0",
   "metadata": {},
   "outputs": [
    {
     "data": {
      "text/plain": [
       "array('1,2,3,4,5,6,7,8,9', dtype='<U17')"
      ]
     },
     "execution_count": 41,
     "metadata": {},
     "output_type": "execute_result"
    }
   ],
   "source": [
    "li = np.array(lis)\n",
    "li"
   ]
  },
  {
   "cell_type": "code",
   "execution_count": 42,
   "id": "cb38071a",
   "metadata": {},
   "outputs": [
    {
     "ename": "ValueError",
     "evalue": "cannot reshape array of size 1 into shape (3,3)",
     "output_type": "error",
     "traceback": [
      "\u001b[0;31m---------------------------------------------------------------------------\u001b[0m",
      "\u001b[0;31mValueError\u001b[0m                                Traceback (most recent call last)",
      "Input \u001b[0;32mIn [42]\u001b[0m, in \u001b[0;36m<cell line: 1>\u001b[0;34m()\u001b[0m\n\u001b[0;32m----> 1\u001b[0m li\u001b[38;5;241m.\u001b[39mshape \u001b[38;5;241m=\u001b[39m (\u001b[38;5;241m3\u001b[39m,\u001b[38;5;241m3\u001b[39m)\n\u001b[1;32m      2\u001b[0m li\n",
      "\u001b[0;31mValueError\u001b[0m: cannot reshape array of size 1 into shape (3,3)"
     ]
    }
   ],
   "source": [
    "li.shape = (3,3)\n",
    "li"
   ]
  },
  {
   "cell_type": "code",
   "execution_count": 45,
   "id": "1b211075",
   "metadata": {},
   "outputs": [
    {
     "name": "stdout",
     "output_type": "stream",
     "text": [
      "5.090909090909091\n"
     ]
    }
   ],
   "source": [
    "example = 1,1,2,3,4,5,6,7,8,9,10\n",
    "print(sum(example)/len(example))\n"
   ]
  },
  {
   "cell_type": "code",
   "execution_count": 73,
   "id": "f2fd13dc",
   "metadata": {},
   "outputs": [
    {
     "name": "stdout",
     "output_type": "stream",
     "text": [
      "49\n",
      "16\n",
      "1\n",
      "4\n",
      "25\n",
      "64\n",
      "121\n"
     ]
    }
   ],
   "source": [
    "\n",
    "for number in range(3,22,3):\n",
    "    num = number - 10\n",
    "    num = num **2\n",
    "    print(num)\n",
    "    \n",
    "\n"
   ]
  },
  {
   "cell_type": "code",
   "execution_count": 76,
   "id": "00bc2235",
   "metadata": {},
   "outputs": [
    {
     "data": {
      "text/plain": [
       "46.666666666666664"
      ]
     },
     "execution_count": 76,
     "metadata": {},
     "output_type": "execute_result"
    }
   ],
   "source": [
    "ans = 49 + 16 + 1 + 4 + 25 + 64 + 121 \n",
    "avg = ans / 6\n",
    "avg"
   ]
  },
  {
   "cell_type": "code",
   "execution_count": 80,
   "id": "2ca1d6b5",
   "metadata": {},
   "outputs": [
    {
     "data": {
      "text/plain": [
       "12.0"
      ]
     },
     "execution_count": 80,
     "metadata": {},
     "output_type": "execute_result"
    }
   ],
   "source": [
    "3+1.5*(9-3)"
   ]
  },
  {
   "cell_type": "code",
   "execution_count": 86,
   "id": "f9c33c6d",
   "metadata": {},
   "outputs": [
    {
     "name": "stdout",
     "output_type": "stream",
     "text": [
      "42586\n"
     ]
    }
   ],
   "source": [
    "count = 100\n",
    "while count <= 100:\n",
    "    id = r.randint(10100,101999)\n",
    "    count +=1\n",
    "    print(id)\n",
    "    break"
   ]
  },
  {
   "cell_type": "code",
   "execution_count": null,
   "id": "73f47802",
   "metadata": {},
   "outputs": [],
   "source": [
    "def NUMPY():\n",
    "  my_array = np.array([1,2,3,4,5,6])\n",
    "  print(\"The original array,\",my_array)\n",
    "\n",
    "  print(\"New array\")\n",
    "  print(np.reshape(my_array,(3,2)))"
   ]
  },
  {
   "cell_type": "code",
   "execution_count": null,
   "id": "f366ded3",
   "metadata": {},
   "outputs": [],
   "source": []
  },
  {
   "cell_type": "code",
   "execution_count": null,
   "id": "678ad1c3",
   "metadata": {},
   "outputs": [],
   "source": []
  },
  {
   "cell_type": "code",
   "execution_count": null,
   "id": "379c4690",
   "metadata": {},
   "outputs": [],
   "source": []
  }
 ],
 "metadata": {
  "kernelspec": {
   "display_name": "Python 3 (ipykernel)",
   "language": "python",
   "name": "python3"
  },
  "language_info": {
   "codemirror_mode": {
    "name": "ipython",
    "version": 3
   },
   "file_extension": ".py",
   "mimetype": "text/x-python",
   "name": "python",
   "nbconvert_exporter": "python",
   "pygments_lexer": "ipython3",
   "version": "3.9.12"
  }
 },
 "nbformat": 4,
 "nbformat_minor": 5
}
