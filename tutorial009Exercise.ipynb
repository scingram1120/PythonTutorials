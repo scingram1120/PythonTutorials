{
 "cells": [
  {
   "cell_type": "markdown",
   "id": "ad9ef24f",
   "metadata": {},
   "source": [
    "## In-class exercise for tutorial 009"
   ]
  },
  {
   "cell_type": "markdown",
   "id": "7952e1df",
   "metadata": {},
   "source": [
    "For the first part of this exercise, you can stay in this notebook and work through it."
   ]
  },
  {
   "cell_type": "markdown",
   "id": "ee1b5619",
   "metadata": {},
   "source": [
    "### Working with Python lists"
   ]
  },
  {
   "cell_type": "markdown",
   "id": "2999724c",
   "metadata": {},
   "source": [
    "Make a new Python list. You can put whatever you want in it. Make it at least 5 items long."
   ]
  },
  {
   "cell_type": "code",
   "execution_count": null,
   "id": "545dbce7",
   "metadata": {},
   "outputs": [],
   "source": []
  },
  {
   "cell_type": "markdown",
   "id": "77d52207",
   "metadata": {},
   "source": [
    "Get the first element of your new list."
   ]
  },
  {
   "cell_type": "code",
   "execution_count": null,
   "id": "cae6c77e",
   "metadata": {},
   "outputs": [],
   "source": []
  },
  {
   "cell_type": "markdown",
   "id": "cf476a55",
   "metadata": {},
   "source": [
    "Get the last element of your new list in a way that wouldn't depend on list length."
   ]
  },
  {
   "cell_type": "code",
   "execution_count": null,
   "id": "8e8e9b83",
   "metadata": {},
   "outputs": [],
   "source": []
  },
  {
   "cell_type": "markdown",
   "id": "48189737",
   "metadata": {},
   "source": [
    "Get all but the last two elements in a way that wouldn't depend on list length."
   ]
  },
  {
   "cell_type": "code",
   "execution_count": null,
   "id": "1e2aeb00",
   "metadata": {},
   "outputs": [],
   "source": []
  },
  {
   "cell_type": "markdown",
   "id": "c2a25a90",
   "metadata": {},
   "source": [
    "Get every other element of your list."
   ]
  },
  {
   "cell_type": "code",
   "execution_count": null,
   "id": "d9aef5aa",
   "metadata": {},
   "outputs": [],
   "source": []
  },
  {
   "cell_type": "markdown",
   "id": "51f0a393",
   "metadata": {},
   "source": [
    "### Working with numpy arrays"
   ]
  },
  {
   "cell_type": "code",
   "execution_count": null,
   "id": "a6a50a8c",
   "metadata": {},
   "outputs": [],
   "source": [
    "import numpy as np"
   ]
  },
  {
   "cell_type": "markdown",
   "id": "b0c898b2",
   "metadata": {},
   "source": [
    "##### Read in our first data file.\n",
    "Make sure you have downloaded the two exercise files into your datasets folder"
   ]
  },
  {
   "cell_type": "markdown",
   "id": "bfea2f32",
   "metadata": {},
   "source": [
    "Numpy has its own file format for saving numpy arrays. Here, we'll load an existing array. This call should fail for you as is – see if you can fix it!"
   ]
  },
  {
   "cell_type": "code",
   "execution_count": null,
   "id": "4b9344ca",
   "metadata": {},
   "outputs": [],
   "source": [
    "dataFromFile = np.load('009ExerciseFile1.npy') # you can name your array whatever you want!"
   ]
  },
  {
   "cell_type": "markdown",
   "id": "f16fddad",
   "metadata": {},
   "source": [
    "Find out the shape of your new array."
   ]
  },
  {
   "cell_type": "code",
   "execution_count": null,
   "id": "8261324d",
   "metadata": {},
   "outputs": [],
   "source": []
  },
  {
   "cell_type": "markdown",
   "id": "024941c1",
   "metadata": {},
   "source": [
    "If your new array is not ***too*** huge, take a peek at it so you know what you're dealing with."
   ]
  },
  {
   "cell_type": "code",
   "execution_count": null,
   "id": "4c5367fc",
   "metadata": {},
   "outputs": [],
   "source": []
  },
  {
   "cell_type": "markdown",
   "id": "f1519f4c",
   "metadata": {},
   "source": [
    "#### Now let's practice grabbing specific bits out of our array."
   ]
  },
  {
   "cell_type": "markdown",
   "id": "d93ca1c2",
   "metadata": {},
   "source": [
    "Get the last row."
   ]
  },
  {
   "cell_type": "code",
   "execution_count": null,
   "id": "9c4af99d",
   "metadata": {},
   "outputs": [],
   "source": []
  },
  {
   "cell_type": "markdown",
   "id": "7bc28cd0",
   "metadata": {},
   "source": [
    "Get the second column (remember that indexes start at 0!)."
   ]
  },
  {
   "cell_type": "code",
   "execution_count": null,
   "id": "9169591a",
   "metadata": {},
   "outputs": [],
   "source": []
  },
  {
   "cell_type": "markdown",
   "id": "8b5487de",
   "metadata": {},
   "source": [
    "Get every other row of the first two columns."
   ]
  },
  {
   "cell_type": "code",
   "execution_count": null,
   "id": "18e9fbd7",
   "metadata": {},
   "outputs": [],
   "source": []
  },
  {
   "cell_type": "markdown",
   "id": "81404b86",
   "metadata": {},
   "source": [
    "Store the the second column in its own varable."
   ]
  },
  {
   "cell_type": "code",
   "execution_count": null,
   "id": "4fb21aea",
   "metadata": {},
   "outputs": [],
   "source": []
  },
  {
   "cell_type": "markdown",
   "id": "4e6939b4",
   "metadata": {},
   "source": [
    "Look at the variable you just created."
   ]
  },
  {
   "cell_type": "code",
   "execution_count": null,
   "id": "06146275",
   "metadata": {},
   "outputs": [],
   "source": []
  },
  {
   "cell_type": "markdown",
   "id": "75114c90",
   "metadata": {},
   "source": [
    "Determine its type (using `type()`)."
   ]
  },
  {
   "cell_type": "code",
   "execution_count": null,
   "id": "61e8d3ed",
   "metadata": {},
   "outputs": [],
   "source": []
  },
  {
   "cell_type": "markdown",
   "id": "f304b866",
   "metadata": {},
   "source": [
    "**Okay, that's nice – when you grab a subset of a numpy array, the result is also a numpy array with superpowers included!**"
   ]
  },
  {
   "cell_type": "markdown",
   "id": "4ee85540",
   "metadata": {},
   "source": [
    "Multiply every element in your new array by 2."
   ]
  },
  {
   "cell_type": "code",
   "execution_count": null,
   "id": "2ac9815c",
   "metadata": {},
   "outputs": [],
   "source": []
  },
  {
   "cell_type": "markdown",
   "id": "c22af79d",
   "metadata": {},
   "source": [
    "Now store the last column of the original array in another variable."
   ]
  },
  {
   "cell_type": "code",
   "execution_count": null,
   "id": "df9f2e49",
   "metadata": {},
   "outputs": [],
   "source": []
  },
  {
   "cell_type": "markdown",
   "id": "906a664c",
   "metadata": {},
   "source": [
    "Multiply your two new numpy arrays – the two variables you just created – assigning the result to a new variable."
   ]
  },
  {
   "cell_type": "code",
   "execution_count": null,
   "id": "c34e74f4",
   "metadata": {},
   "outputs": [],
   "source": []
  },
  {
   "cell_type": "markdown",
   "id": "21487945",
   "metadata": {},
   "source": [
    "Check the shape and type of your new variable."
   ]
  },
  {
   "cell_type": "code",
   "execution_count": null,
   "id": "8e0e0914",
   "metadata": {},
   "outputs": [],
   "source": []
  },
  {
   "cell_type": "markdown",
   "id": "f5faf6a7",
   "metadata": {},
   "source": [
    "---"
   ]
  },
  {
   "cell_type": "markdown",
   "id": "7f713832",
   "metadata": {},
   "source": [
    "### Exploring a larger array"
   ]
  },
  {
   "cell_type": "markdown",
   "id": "18c7bf4d",
   "metadata": {},
   "source": [
    "For this part of the exercise, start a new notebook. That is the notebook you'll turn in. At the top of your new notebook, make sure to:"
   ]
  },
  {
   "cell_type": "code",
   "execution_count": null,
   "id": "cc9abec2",
   "metadata": {},
   "outputs": [],
   "source": [
    "import matplotlib.pyplot as plt\n",
    "import numpy as np"
   ]
  },
  {
   "cell_type": "markdown",
   "id": "17b5bbe8",
   "metadata": {},
   "source": [
    "Then you can read in our second data file:"
   ]
  },
  {
   "cell_type": "code",
   "execution_count": null,
   "id": "485f89c9",
   "metadata": {},
   "outputs": [],
   "source": [
    "dataFromFile2 = np.load('datasets/009ExerciseFile2.npy') # you can name your array whatever you want!"
   ]
  },
  {
   "cell_type": "markdown",
   "id": "148d29d8",
   "metadata": {},
   "source": [
    "#### Your mission!"
   ]
  },
  {
   "cell_type": "markdown",
   "id": "10f4fd79",
   "metadata": {},
   "source": [
    "Lurking in this numpy array of data is a pattern. It might be in the rows (that is, the data in a subset (or subsets) of the rows all have something in common, light slightly higher or lower average values), or it might be in the columns. **You job is to find the pattern by plotting rows and columns and summaries of the data set!**"
   ]
  },
  {
   "cell_type": "markdown",
   "id": "1859be5f",
   "metadata": {},
   "source": [
    "Happily, `plt.plot()` is very friendly. So if you want to plot, say, the fifth row, you just do\n",
    "\n",
    "`plt.plot(dataFromFile[4, :])`"
   ]
  },
  {
   "cell_type": "markdown",
   "id": "ab00f64d",
   "metadata": {},
   "source": [
    "***Pro Tip!*** When you plot, `plt.plot()` prints out a listing of the objects it drew above the plot itself. This gets super annoying if you're plotting a lot of lines, e.g. like this:\n",
    "\n",
    "`plt.plot(dataFromFile[0:20, :])`\n",
    "\n",
    "You can suppress this listing by simply adding a semicolon at the end of the line:\n",
    "\n",
    "`plt.plot(dataFromFile[4, :]);`"
   ]
  },
  {
   "cell_type": "markdown",
   "id": "e7c8a988",
   "metadata": {},
   "source": [
    "After you have played around with that for bit, remember that numpy arrays know how to summarize themselves in various ways. As we saw in the tutorial, for example, you can sum down the rows or columns. If they know how to sum, they probably know other tricks as well... "
   ]
  },
  {
   "cell_type": "markdown",
   "id": "37fca703",
   "metadata": {},
   "source": [
    "#### Once you have found the pattern..."
   ]
  },
  {
   "cell_type": "markdown",
   "id": "0b5db99c",
   "metadata": {},
   "source": []
  },
  {
   "cell_type": "markdown",
   "id": "70dcf270",
   "metadata": {},
   "source": [
    "For the assignment, you don't need to show all your figures, just show that you found the pattern!"
   ]
  }
 ],
 "metadata": {
  "kernelspec": {
   "display_name": "Python 3 (ipykernel)",
   "language": "python",
   "name": "python3"
  },
  "language_info": {
   "codemirror_mode": {
    "name": "ipython",
    "version": 3
   },
   "file_extension": ".py",
   "mimetype": "text/x-python",
   "name": "python",
   "nbconvert_exporter": "python",
   "pygments_lexer": "ipython3",
   "version": "3.9.7"
  }
 },
 "nbformat": 4,
 "nbformat_minor": 5
}
