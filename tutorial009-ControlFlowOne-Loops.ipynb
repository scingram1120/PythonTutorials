{
 "cells": [
  {
   "cell_type": "markdown",
   "id": "f567993e",
   "metadata": {},
   "source": [
    "# Basic control flow in Python I"
   ]
  },
  {
   "cell_type": "markdown",
   "id": "bd0941ea",
   "metadata": {},
   "source": [
    "### Learning outcomes:\n",
    " - Understand and use control flow in python\n",
    " - `for` loops\n",
    " - `While` Loops"
   ]
  },
  {
   "cell_type": "markdown",
   "id": "7cebc1af",
   "metadata": {},
   "source": [
    "Let's make a thought experiment as a start. Imagine giving yourself, a slightly different different, a robot-like person resembling yourself, instructions to navigate outdoor, away from this room, into the open air and sunshine. \n",
    "\n",
    "You might give yourself instructions to do so, and say things like the following:\n",
    "\n",
    "  - Stand up from desk\n",
    "  - Walk to the door\n",
    "  - *If* the door is closed *then* open the door\n",
    "  - *If* the length of the corridor to the right is shorter than that to the left *then* take the corridor to the right, *else* take corridor to the left\n",
    "  - Continue walking *for* the duration of the corridor\n",
    "  - *While* walking avoid people\n",
    "  - When the end of the corridor is reached open door to the outisde\n",
    "  - Etc.\n",
    "\n",
    "Instructions like the ones above are often needed when programming a complex task, just like navigating the college campus."
   ]
  },
  {
   "cell_type": "markdown",
   "id": "5fc8610c",
   "metadata": {},
   "source": [
    "### Control flow"
   ]
  },
  {
   "cell_type": "markdown",
   "id": "3653a714",
   "metadata": {},
   "source": [
    "**Control flow** comprises of the set of commands available in a programming language to control the flow of information processing, just like the instructions above control your navigation."
   ]
  },
  {
   "cell_type": "markdown",
   "id": "6b1ef4c8",
   "metadata": {},
   "source": [
    "Control flow comprises the set of operations that make sure the set of code operations are executed by a program.  A control flow statement allows the program to make a choice among two or more alternatives.\n",
    "\n",
    "A set of control flow operations are generally organized into blocks with a beginning and an end. The end and beginning of a control flow block is codified by dedicated words, or syntax."
   ]
  },
  {
   "cell_type": "markdown",
   "id": "30775168",
   "metadata": {},
   "source": [
    "Control flow is core to all computer programming, not just Python. In this tutorial we are going to get started with control flow and learn about some of the core elements in Python. More specifically we will look at \n",
    "\n",
    "* for and while loops\n",
    "* conditional tests and Boolean logic\n",
    "* control flow\n",
    "* functions\n",
    "\n",
    "We will explore these things using fairly simple examples (that will also give us practice with indexing, operators, Python lists, etc). Later, we will see how useful these core elements are when they are combined!"
   ]
  },
  {
   "cell_type": "markdown",
   "id": "e628e270",
   "metadata": {},
   "source": [
    "### Loops"
   ]
  },
  {
   "cell_type": "markdown",
   "id": "f15e14bf",
   "metadata": {},
   "source": [
    "Things in life can be repetitive. \n",
    "\n",
    "Often, we need to repeat an entire, long, process over when only small changes are needed. For example, most of us follow the same exact routine every morning (shower/brush teeth/shave/make up/whatever) even though the only thing that has changed is one little number on a calendar. The same is true for computational tasks; a teacher might need to go through the exact same steps to compute a grade for each student, or a data scientist might need to go through the exact same steps to create a plot for several different but identically structured data sets.\n",
    "\n",
    "Such repetitive tasks are very boring for humans (and bored humans tend to make mistakes!). While computers can't brush our teeth yet (still waiting for those tarter-eating nanobots!), they can help with reapeating calculations over and over using ***loops***.\n",
    "\n",
    "There are two kinds of loops. There are\n",
    "\n",
    "* `for` loops, which run a calculation *for* a pre-determined number of times\n",
    "* `while` loops, which run a calculation *while* some critereon is met\n",
    "\n",
    "Let's look at these in turn."
   ]
  },
  {
   "cell_type": "markdown",
   "id": "8effb84d",
   "metadata": {},
   "source": [
    "### Control flow: 'For' loops"
   ]
  },
  {
   "cell_type": "markdown",
   "id": "680b3a98",
   "metadata": {},
   "source": [
    "The `for` loop will be your workhorse for a lot of tasks. "
   ]
  },
  {
   "cell_type": "markdown",
   "id": "83e7d5e7",
   "metadata": {},
   "source": [
    "Let's run this very simple `for` loop, and then we'll look at it and dissect it."
   ]
  },
  {
   "cell_type": "code",
   "execution_count": null,
   "id": "5b995534",
   "metadata": {},
   "outputs": [],
   "source": [
    "myNewList = [1, 2, 3, 4, 5]\n",
    "for i in myNewList :\n",
    "    print(i)"
   ]
  },
  {
   "cell_type": "markdown",
   "id": "5684dda6",
   "metadata": {},
   "source": [
    "The first line, `myNewList = [1, 2, 3, 4, 5]`, creates a Python ***list*** of numbers. A list in Python is a kind of ***iterable***, which is a Python object that will automatically spit out its values one-at-a-time if it's put in a `for` loop."
   ]
  },
  {
   "cell_type": "markdown",
   "id": "7ceac915",
   "metadata": {},
   "source": [
    "The next line, `for i in myNewList:`, sets up the for loop. It says that:\n",
    "\n",
    "* each value in myNewList (the iterable) will be assigned to the variable `i` in turn\n",
    "* every ***indented*** line under this line is executed with each value of `i` in turn\n",
    "\n",
    "The third line self-explanitory; we are just printing the values of `i` to confirm that `i` is, in fact, getting assigned each value of `myNewList` in turn.\n",
    "\n",
    "(The use of `i` here is by convention only. You can use anything, like `Phredrick` even, as the name of your looping variable. But, just like having numpy nicknamed np, the use of `i` will generally make your code more readable to others, including future you!)"
   ]
  },
  {
   "cell_type": "markdown",
   "id": "e3f35b4e",
   "metadata": {},
   "source": [
    "Also, note the indentation in the lines following the `for` loop line is key. As described above that indentention is the syntax that defines the block of conde that is part of the \n",
    "\n",
    "Python was designed from the ground up to be a very human readable programming language. Appropriate indentation helps make code pretty and readable. As such, Python enforces its use in certain circumstances, like inside a `for` loop. The indentation tells Python \"Yep, this line is inside the `for` loop.\" and the end of indentation tells Python (and you) \"Okay, now we're back outside the `for` loop.\"\n",
    "\n",
    "Four spaces, that is the number of spaces Python expects in a `for` loop block of code. \n",
    "\n",
    "In most other programming languages, we are encouraged to indent our code to make it pretty. In Python, indentation is actually a part of the language!"
   ]
  },
  {
   "cell_type": "markdown",
   "id": "e6691857",
   "metadata": {},
   "source": [
    "Let's take a look the anatomy of a `for` loop:\n",
    "\n",
    "The code block starts with the word `for`, the a variable, often `i`, `k`, or `j` (not to be cofunded with `j` from the complex numbers). This variable is be used as an index (hence the `i`), the holder of the current element's index in a list of elements. After that word `in` is used to indicate that the next variable  contains the list of elements to iterate over. Finaly, the sentence is closed with `:`\n",
    "\n",
    "```\n",
    "for i in list_of_values :    \n",
    "```"
   ]
  },
  {
   "cell_type": "markdown",
   "id": "ca5876ba",
   "metadata": {},
   "source": [
    "After, that first line a block of operations follow, operations that are iterated over for each value in the `list_of_values`. This block of operations needs to be indented by 4-spaces, as per Python Syntax.\n",
    "\n",
    "Let's look at a fully executable example. Let's experiment with this by computing the square root of some numbers. This `for` loop should run as expected. Let's make a Python `list` with `int` values in it:"
   ]
  },
  {
   "cell_type": "code",
   "execution_count": null,
   "id": "729a61f6",
   "metadata": {},
   "outputs": [],
   "source": [
    "input_list = [1, 2, 3, 4, 5]"
   ]
  },
  {
   "cell_type": "markdown",
   "id": "c8017dbb",
   "metadata": {},
   "source": [
    "Let's then run the `for` loop, print out the current squre root and print out when the `for` loop has ended:"
   ]
  },
  {
   "cell_type": "code",
   "execution_count": null,
   "id": "6c8206ff",
   "metadata": {},
   "outputs": [],
   "source": [
    "for i in input_list :    \n",
    "    root = i**0.5  # remember, the double splat, \"**\", means \"raise to the power of\"\n",
    "    print('The square root of ', i, ' is ', root)\n",
    "print('Now the loop is over.')"
   ]
  },
  {
   "cell_type": "markdown",
   "id": "b22c87d9",
   "metadata": {},
   "source": [
    "A good test for how important is indentention is to try the same code without indentation:"
   ]
  },
  {
   "cell_type": "code",
   "execution_count": null,
   "id": "fbb08e9e",
   "metadata": {},
   "outputs": [],
   "source": [
    "for i in input_list :    \n",
    "root = i**0.5  # remember, the double splat, \"**\", means \"raise to the power of\"\n",
    "print('The square root of ', i, ' is ', root)\n",
    "print('Now the loop is over.')"
   ]
  },
  {
   "cell_type": "markdown",
   "id": "a5738408",
   "metadata": {},
   "source": [
    "Oops! Python barfs because the indentation – an integral part of the code – is wrong."
   ]
  },
  {
   "cell_type": "markdown",
   "id": "eab8d350",
   "metadata": {},
   "source": [
    "Even if we try to make our intent clear with blank lines, the indentation determines what is in the loop or not. Below, it looks like we want the second print to be outside the loop..."
   ]
  },
  {
   "cell_type": "code",
   "execution_count": null,
   "id": "a46eb55e",
   "metadata": {
    "scrolled": true
   },
   "outputs": [],
   "source": [
    "aList = [0, 1, 2, 3, 4, 5, 6, 7, 8, 9]\n",
    "for i in aList :    \n",
    "    root = i**0.5\n",
    "    print('The square root of ', i, ' is ', root)\n",
    "\n",
    "    print('Now the loop is over.')"
   ]
  },
  {
   "cell_type": "markdown",
   "id": "ea68aab6",
   "metadata": {},
   "source": [
    "... but it's not – the indentation makes it part of the `for` loop. Above, we have just wrongly added `print('Now the loop is over.')` to the `for` loop code block, by simply increasing the indentation."
   ]
  },
  {
   "cell_type": "markdown",
   "id": "ce15f7c6",
   "metadata": {},
   "source": [
    "And because indentation is SO important, we can't indent willy-nilly just because we feel like it:"
   ]
  },
  {
   "cell_type": "code",
   "execution_count": null,
   "id": "b6882e72",
   "metadata": {},
   "outputs": [],
   "source": [
    "aList = [0, 1, 2, 3, 4, 5, 6, 7, 8, 9]\n",
    "for i in aList :    \n",
    "    root = i**0.5\n",
    "print('The square root of ', i, ' is ', root)\n",
    "\n",
    "    print('Now the loop is over.')"
   ]
  },
  {
   "cell_type": "markdown",
   "id": "fbdae2c2",
   "metadata": {},
   "source": [
    "Okay, let's go back to our working version. It's nice and pretty and it's clear what's in the loop and what's not."
   ]
  },
  {
   "cell_type": "code",
   "execution_count": null,
   "id": "c233ad1a",
   "metadata": {},
   "outputs": [],
   "source": [
    "aList = [0, 1, 2, 3, 4, 5, 6, 7, 8, 9]\n",
    "for i in aList :    \n",
    "    root = i**0.5  # the double splat, \"**\", is \"raise to the power of\"\n",
    "    print('The square root of ', i, ' is ', root)\n",
    "\n",
    "print('Now the loop is over.')"
   ]
  },
  {
   "cell_type": "markdown",
   "id": "559a095a",
   "metadata": {},
   "source": [
    "$\\color{blue}{\\text{Complete the following exercise.}}$\n",
    "\n",
    "  - Write a `for` loop to compute the square of the first few even numbers.\n",
    "  \n",
    "  [Use the cell below to show your code]\n"
   ]
  },
  {
   "cell_type": "code",
   "execution_count": null,
   "id": "c8d888d0",
   "metadata": {},
   "outputs": [],
   "source": [
    "myEvens = [2, 4, 6, 8, 10]"
   ]
  },
  {
   "cell_type": "markdown",
   "id": "60c9f2bd",
   "metadata": {},
   "source": [
    "Note that when you hit return after typing the `for ... :` line, Python indented the next line automatically for you. How nice! But sometimes you'll want to go back and edit a `for` loop, or add lines to one, etc. So...\n",
    "\n",
    "**Important!** When you have to indent code manually, use ***4 spaces*** to indent! Do not use a tab, do not use 3 spaces, do not use 5 spaces, ***use 4 spaces***. This is one thing that Python can be really mean about.\n",
    "\n",
    "When you become a master coder, you can experiment with this. But don't come running back to me crying when the Python gods smite you and leave you all alone out in the cold having to pick up the pieces of the tattered shambles of your former life."
   ]
  },
  {
   "cell_type": "markdown",
   "id": "208957e7",
   "metadata": {},
   "source": [
    "### Ranges of data values\n",
    "\n",
    "Above we created lists by typing values inside squre brackets. Python has a handy dandy function to create values for `for` loops, called a `range()` that works really well with `for` loops. A `range()` spits out a sequence of numbers perfectly suited to feeding a hungry `for` loop. By default, the range starts at zero and increments by one. Like this:"
   ]
  },
  {
   "cell_type": "code",
   "execution_count": null,
   "id": "56299dae",
   "metadata": {},
   "outputs": [],
   "source": [
    "for i in range(5) :\n",
    "    print(i)"
   ]
  },
  {
   "cell_type": "markdown",
   "id": "398105f2",
   "metadata": {},
   "source": [
    "But you can change this by providing a start and a stop, or even a start, stop and step."
   ]
  },
  {
   "cell_type": "code",
   "execution_count": null,
   "id": "d9bd1bcc",
   "metadata": {},
   "outputs": [],
   "source": [
    "for i in range(2, 11) :\n",
    "    print(i)"
   ]
  },
  {
   "cell_type": "code",
   "execution_count": null,
   "id": "65fd103b",
   "metadata": {},
   "outputs": [],
   "source": [
    "for i in range(2, 9, 2) :\n",
    "    print(i)\n",
    "print('Who do we appreciate?')"
   ]
  },
  {
   "cell_type": "markdown",
   "id": "3424a76d",
   "metadata": {},
   "source": [
    "Note that a range does not make a list!"
   ]
  },
  {
   "cell_type": "code",
   "execution_count": null,
   "id": "d5094fee",
   "metadata": {},
   "outputs": [],
   "source": [
    "a = range(5)\n",
    "a"
   ]
  },
  {
   "cell_type": "code",
   "execution_count": null,
   "id": "a155f1ed",
   "metadata": {},
   "outputs": [],
   "source": [
    "type(a)"
   ]
  },
  {
   "cell_type": "markdown",
   "id": "b1d50da5",
   "metadata": {},
   "source": [
    "Rather, a `range()` can be thought a little machine that spits out numbers for a `for` loop!"
   ]
  },
  {
   "cell_type": "markdown",
   "id": "9125e669",
   "metadata": {},
   "source": [
    "$\\color{blue}{\\text{Complete the following exercise.}}$\n",
    "\n",
    "  - Write a `for` loop to compute the cube of the first 10 odd numbers starting from 11, use `range()` to create the number. Print each value and a message when the loop is finished.\n",
    "  \n",
    "  [Use the cell below to show your code]\n"
   ]
  },
  {
   "cell_type": "code",
   "execution_count": null,
   "id": "657916c2",
   "metadata": {},
   "outputs": [],
   "source": []
  },
  {
   "cell_type": "markdown",
   "id": "98afa6bc",
   "metadata": {},
   "source": [
    "### Control flow: 'while' loops"
   ]
  },
  {
   "cell_type": "markdown",
   "id": "49f3cb0c",
   "metadata": {},
   "source": [
    "Above, we have talked about `for` loops. For loops are excellent if we have a good idea of when to stop.\n",
    "\n",
    "Sometimes, though we do not know the exact number of items we are iterating over, or alternatively, we want to iterate until a certain condition is met (for instead of iterating until the end of a list of numbers we want to iterate while a number is less than another).\n",
    "\n",
    "In cases when the end condition for a loop is cannto be easily established before entering the loop, the `while` loop is used."
   ]
  },
  {
   "cell_type": "markdown",
   "id": "d11c991e",
   "metadata": {},
   "source": [
    "If, for example, we are computing the cumulative sum of the numbers between 10 and 20, we can use a `for` loop:"
   ]
  },
  {
   "cell_type": "code",
   "execution_count": null,
   "id": "ac6287ce",
   "metadata": {},
   "outputs": [],
   "source": [
    "aList = range(10,20);\n",
    "print(aList)"
   ]
  },
  {
   "cell_type": "code",
   "execution_count": null,
   "id": "8a105156",
   "metadata": {},
   "outputs": [],
   "source": [
    "j = 0\n",
    "for i in aList :    \n",
    "    s = i + aList[j] \n",
    "    print('The current sum at element ', i, ' is ', s, '(j is',j,')')\n",
    "    j = j+1"
   ]
  },
  {
   "cell_type": "markdown",
   "id": "6d9cea65",
   "metadata": {},
   "source": [
    "In many situations the length of a loop might be unkown before entering the loop. Instead, it might be known that the loop will need to be ended, if a specific condition is met. \n",
    "\n",
    "For example, if we were not in the position to know how many people live in the city of Austin, TX, but we wanted to ask each one of them if they have eaten any cake today, we could could use a while loop. We would continue asking while meeting people that we hve not met before. \n",
    "\n",
    "In reality, often times it is possible to rewrite a `while` loop as a `for` loop. But there are useful differences between the two loops and for that reason they have both survived."
   ]
  },
  {
   "cell_type": "markdown",
   "id": "276c7397",
   "metadata": {},
   "source": [
    "To show how a `while` loop would work, imagine if I wanted to know if I have eaten more than 14 slices of pizza in the past two weeks (why pizza now? Because we can, pizza is good, too much cake already anyways). Let's assume that I eat 1 slice of pizza per day:"
   ]
  },
  {
   "cell_type": "code",
   "execution_count": null,
   "id": "25fb43f4",
   "metadata": {},
   "outputs": [],
   "source": [
    "day = 1\n",
    "pizza = 0\n",
    "while day < 14 :\n",
    "    pizza = pizza + 1\n",
    "    print('today is day #,', day, 'so far I ate', pizza, 'pizzas')\n",
    "    day += 1"
   ]
  },
  {
   "cell_type": "markdown",
   "id": "255b62bf",
   "metadata": {},
   "source": [
    "The syntax of a `while` loop is similar but different than a `for` loop. A `while` loop requires\n",
    "\n",
    "A) A condition that will need to be met `while condition`\n",
    "\n",
    "B) A `:` at the end of the `while` line\n",
    "\n",
    "C) Operations to be performed while the condition is not met, yet.\n",
    "\n",
    "That is it.\n",
    "\n",
    "In our case above, had used a counter and the operation was set to be for the counter to be less than a value. We had something like the following:\n",
    "\n",
    "```\n",
    "counter = 1\n",
    "while counter < max_value :\n",
    "  operations\n",
    "  counter += 1\n",
    "```"
   ]
  },
  {
   "cell_type": "markdown",
   "id": "2996337f",
   "metadata": {},
   "source": [
    "To reinstate then, `while` loops are used when the number of times it will be necessary to iterate is unkown, but the condition which determines the end of the loop is known. The `for` loop instead is used when the number of times the loop will have to iterate over is known, independently of whether the condition to exit the iteration is known or not. "
   ]
  },
  {
   "cell_type": "markdown",
   "id": "5718dbbd",
   "metadata": {},
   "source": [
    "$\\color{blue}{\\text{Complete the following exercise.}}$\n",
    "\n",
    "  - Write a `while` loop to sum the first 13 numbers starting at 1. Print each value and a message when the loop is finished.\n",
    "  \n",
    "  [Use the cell below to show your code]\n"
   ]
  },
  {
   "cell_type": "code",
   "execution_count": null,
   "id": "80c7553c",
   "metadata": {},
   "outputs": [],
   "source": []
  },
  {
   "cell_type": "markdown",
   "id": "e2d5a317",
   "metadata": {},
   "source": [
    "`while` loops also provide a convenient way to specify conditions explicitly. For example, we can use the word `break` to literally break out of a `while` loop, if a condition is met. For example, we can exit (or `break` out of) a `while` loop if a value reaches a certain threshold:"
   ]
  },
  {
   "cell_type": "code",
   "execution_count": null,
   "id": "9573012f",
   "metadata": {},
   "outputs": [],
   "source": [
    "# here we break the loop (using the break command) \n",
    "# if the counter is equal to a certain exit value\n",
    "counter = 1\n",
    "exit_val = 6\n",
    "while counter < 1000:\n",
    "  print('The counter is',counter,'The exit value is', exit_val)\n",
    "  if counter == exit_val :\n",
    "    print('The condition was met',counter,'==', exit_val, ', we exit the loop...')\n",
    "    break\n",
    "  counter += 1"
   ]
  },
  {
   "cell_type": "markdown",
   "id": "2a6e56ce",
   "metadata": {},
   "source": [
    "The code above, is similar to the one previously used one, yet, the `while` loop is terminated when a condition is met. \n",
    "\n",
    "The condition is that the counter becomes less than an `exit_val` variable (`6`). the condition is tested using the `if` syntax (`if` is an important word in python for flow control that we will explore more later).\n"
   ]
  },
  {
   "cell_type": "markdown",
   "id": "0d15b2ec",
   "metadata": {},
   "source": [
    "$\\color{blue}{\\text{Complete the following exercise.}}$\n",
    "\n",
    "  - Write a `while` loop to multiply the first 10 numbers starting at 0, but exit the look if the output of the multiplication is more than 50 . Print each value and a message when breaking out of the loop.\n",
    "  \n",
    "  [Use the cell below to show your code]\n"
   ]
  },
  {
   "cell_type": "code",
   "execution_count": null,
   "id": "fa7bc40e",
   "metadata": {},
   "outputs": [],
   "source": []
  },
  {
   "cell_type": "markdown",
   "id": "992d4e46",
   "metadata": {},
   "source": [
    "In some cases, we can set a condition to be met but instead of breaking out of the while loop we can decide to continue. For example, below we use the word `continue` instead of the word `break`, in this"
   ]
  },
  {
   "cell_type": "code",
   "execution_count": null,
   "id": "643f8969",
   "metadata": {},
   "outputs": [],
   "source": [
    "# here we continue the loop (using the continue command) \n",
    "# if the counter is equal to a certain value\n",
    "counter = 0\n",
    "val = 6\n",
    "while counter < 10 :\n",
    "   counter += 1\n",
    "   if counter == val :\n",
    "    print('The condition was met',counter,'==', val, ', but we continue...')\n",
    "    continue\n",
    "   print('The counter is',counter,'The value is', val)"
   ]
  },
  {
   "cell_type": "markdown",
   "id": "5919c6ca",
   "metadata": {},
   "source": [
    "In reality, we could have used the `brake` command also in combination with a `for` loop. So, the situations where a while and for loop diverge are limited. Yet, one or the other are often times preferable, especially for clarity of programming style (e.g., your colleagues reading your code will be happier, if you write simple, easy to read code)."
   ]
  },
  {
   "cell_type": "markdown",
   "id": "197064e9",
   "metadata": {},
   "source": [
    "Below one last example with the `while` loop. The loop offers the ability to end with an `else` just like an `if` statement. "
   ]
  },
  {
   "cell_type": "code",
   "execution_count": null,
   "id": "6e76858a",
   "metadata": {},
   "outputs": [],
   "source": [
    "counter = 0\n",
    "while counter < 10 :\n",
    "    print(\"We write INSIDE becuase we are inside the while loop.\")\n",
    "    counter = counter + 1\n",
    "else :\n",
    "    print(\"We write END because we have exited the while loop and are inside the else statement\")"
   ]
  },
  {
   "cell_type": "markdown",
   "id": "cafcc3d9",
   "metadata": {},
   "source": [
    "Try writing a while loop that exits if a random number is positive. How would you do that?"
   ]
  },
  {
   "cell_type": "code",
   "execution_count": null,
   "id": "b784ecc4",
   "metadata": {},
   "outputs": [],
   "source": []
  },
  {
   "cell_type": "markdown",
   "id": "dde2452d",
   "metadata": {},
   "source": [
    "$\\color{blue}{\\text{Complete the following exercise.}}$\n",
    "\n",
    "  - Write the same code twice and compare the complexity of the code\n",
    "\n",
    "    ```\n",
    "    LIST = [101, 102, 103, 104, 105, 106, 107, 108, 109, 110]\n",
    "    A = 0\n",
    "    for B in LIST :    \n",
    "        OUT = B + LIST[A] \n",
    "        print('The current sum at element ', B, ' is ', OUT, '(A is',A,')')\n",
    "        A = A+1\n",
    "    ```\n",
    "\n",
    "   Complete the code above and rewrite it as a `while` loop.\n",
    "  \n",
    "  [Use the cell below to show your code.]\n"
   ]
  },
  {
   "cell_type": "code",
   "execution_count": null,
   "id": "e5773c7b",
   "metadata": {},
   "outputs": [],
   "source": []
  },
  {
   "cell_type": "markdown",
   "id": "49702add",
   "metadata": {},
   "source": [
    "[Use this cell to describe in your own words which code seems to be more complex and why]"
   ]
  },
  {
   "cell_type": "code",
   "execution_count": null,
   "id": "ba55f06c",
   "metadata": {},
   "outputs": [],
   "source": []
  }
 ],
 "metadata": {
  "kernelspec": {
   "display_name": "Python 3 (ipykernel)",
   "language": "python",
   "name": "python3"
  },
  "language_info": {
   "codemirror_mode": {
    "name": "ipython",
    "version": 3
   },
   "file_extension": ".py",
   "mimetype": "text/x-python",
   "name": "python",
   "nbconvert_exporter": "python",
   "pygments_lexer": "ipython3",
   "version": "3.9.7"
  }
 },
 "nbformat": 4,
 "nbformat_minor": 5
}
